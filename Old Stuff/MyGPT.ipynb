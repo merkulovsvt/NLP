{
 "cells": [
  {
   "metadata": {},
   "cell_type": "markdown",
   "source": "# Data",
   "id": "35af9e074d50bd68"
  },
  {
   "metadata": {
    "ExecuteTime": {
     "end_time": "2025-01-10T11:51:37.720297Z",
     "start_time": "2025-01-10T11:51:35.455891Z"
    }
   },
   "cell_type": "code",
   "source": [
    "# from datasets import load_dataset\n",
    "# \n",
    "# data = load_dataset(\"takiholadi/kill-me-please-dataset\")\n",
    "# data"
   ],
   "id": "9efe82afc24f1ebd",
   "outputs": [
    {
     "data": {
      "text/plain": [
       "DatasetDict({\n",
       "    train: Dataset({\n",
       "        features: ['text', 'tags', 'votes', 'url', 'datetime'],\n",
       "        num_rows: 27321\n",
       "    })\n",
       "    test: Dataset({\n",
       "        features: ['text', 'tags', 'votes', 'url', 'datetime'],\n",
       "        num_rows: 2772\n",
       "    })\n",
       "})"
      ]
     },
     "execution_count": 16,
     "metadata": {},
     "output_type": "execute_result"
    }
   ],
   "execution_count": 16
  },
  {
   "metadata": {
    "ExecuteTime": {
     "end_time": "2025-01-10T12:11:18.250041Z",
     "start_time": "2025-01-10T12:11:17.165541Z"
    }
   },
   "cell_type": "code",
   "source": [
    "# train_texts = data[\"train\"][\"text\"]\n",
    "# test_texts = data[\"test\"][\"text\"]\n",
    "# \n",
    "# characters = set()\n",
    "# for text in train_texts:\n",
    "#     characters.update(text)\n",
    "# \n",
    "# for text in test_texts:\n",
    "#     characters.update(text)\n",
    "# characters = sorted(list(characters))\n",
    "# vocab_size = len(characters)\n",
    "# \n",
    "# ''.join(characters)"
   ],
   "id": "74610c2a8d7c7a1c",
   "outputs": [
    {
     "data": {
      "text/plain": [
       "'\\t\\n !\"#$%&\\'()*+,-./0123456789:;<=>?@ABCDEFGHIJKLMNOPQRSTUVWXYZ[\\\\]^_`abcdefghijklmnopqrstuvwxyz{|~\\xa0¥©«°±»¾×àë́ЁАБВГДЕЖЗИЙКЛМНОПРСТУФХЦЧШЩЪЫЬЭЮЯабвгдежзийклмнопрстуфхцчшщъыьэюяё\\u200b\\u200c–—―‘’“”„…€₽№™−！（）－'"
      ]
     },
     "execution_count": 61,
     "metadata": {},
     "output_type": "execute_result"
    }
   ],
   "execution_count": 61
  },
  {
   "metadata": {},
   "cell_type": "markdown",
   "source": "Не будем пока использовать этот dataset",
   "id": "7754e2eb19393336"
  },
  {
   "metadata": {
    "ExecuteTime": {
     "end_time": "2025-01-10T12:18:11.367724Z",
     "start_time": "2025-01-10T12:18:10.628614Z"
    }
   },
   "cell_type": "code",
   "source": "!wsl wget https://raw.githubusercontent.com/karpathy/char-rnn/master/data/tinyshakespeare/input.txt",
   "id": "5af6864a7c477d6d",
   "outputs": [
    {
     "name": "stderr",
     "output_type": "stream",
     "text": [
      "--2025-01-10 15:18:10--  https://raw.githubusercontent.com/karpathy/char-rnn/master/data/tinyshakespeare/input.txt\n",
      "Resolving raw.githubusercontent.com (raw.githubusercontent.com)... 185.199.110.133, 185.199.111.133, 185.199.108.133, ...\n",
      "Connecting to raw.githubusercontent.com (raw.githubusercontent.com)|185.199.110.133|:443... connected.\n",
      "HTTP request sent, awaiting response... 200 OK\n",
      "Length: 1115394 (1.1M) [text/plain]\n",
      "Saving to: ‘input.txt’\n",
      "\n",
      "     0K .......... .......... .......... .......... ..........  4%  868K 1s\n",
      "    50K .......... .......... .......... .......... ..........  9% 1.31M 1s\n",
      "   100K .......... .......... .......... .......... .......... 13% 3.08M 1s\n",
      "   150K .......... .......... .......... .......... .......... 18% 1.88M 1s\n",
      "   200K .......... .......... .......... .......... .......... 22% 12.8M 0s\n",
      "   250K .......... .......... .......... .......... .......... 27% 1.78M 0s\n",
      "   300K .......... .......... .......... .......... .......... 32% 18.1M 0s\n",
      "   350K .......... .......... .......... .......... .......... 36% 6.22M 0s\n",
      "   400K .......... .......... .......... .......... .......... 41% 8.59M 0s\n",
      "   450K .......... .......... .......... .......... .......... 45% 3.90M 0s\n",
      "   500K .......... .......... .......... .......... .......... 50% 20.2M 0s\n",
      "   550K .......... .......... .......... .......... .......... 55% 23.6M 0s\n",
      "   600K .......... .......... .......... .......... .......... 59% 2.77M 0s\n",
      "   650K .......... .......... .......... .......... .......... 64% 19.0M 0s\n",
      "   700K .......... .......... .......... .......... .......... 68% 19.4M 0s\n",
      "   750K .......... .......... .......... .......... .......... 73% 18.8M 0s\n",
      "   800K .......... .......... .......... .......... .......... 78% 17.1M 0s\n",
      "   850K .......... .......... .......... .......... .......... 82% 20.3M 0s\n",
      "   900K .......... .......... .......... .......... .......... 87% 21.5M 0s\n",
      "   950K .......... .......... .......... .......... .......... 91% 22.0M 0s\n",
      "  1000K .......... .......... .......... .......... .......... 96% 10.4M 0s\n",
      "  1050K .......... .......... .......... .........            100% 24.6M=0.2s\n",
      "\n",
      "2025-01-10 15:18:11 (4.39 MB/s) - ‘input.txt’ saved [1115394/1115394]\n",
      "\n"
     ]
    }
   ],
   "execution_count": 80
  },
  {
   "metadata": {
    "ExecuteTime": {
     "end_time": "2025-01-10T12:19:00.906601Z",
     "start_time": "2025-01-10T12:19:00.888781Z"
    }
   },
   "cell_type": "code",
   "source": [
    "with open('input.txt', 'r', encoding='utf-8') as f:\n",
    "    text = f.read()\n",
    "\n",
    "print(\"length of dataset in characters:\", len(text))"
   ],
   "id": "a8e84e636869d59b",
   "outputs": [
    {
     "name": "stdout",
     "output_type": "stream",
     "text": [
      "length of dataset in characters: 1115394\n"
     ]
    }
   ],
   "execution_count": 83
  },
  {
   "metadata": {
    "ExecuteTime": {
     "end_time": "2025-01-10T12:19:05.128605Z",
     "start_time": "2025-01-10T12:19:05.117284Z"
    }
   },
   "cell_type": "code",
   "source": "print(text[:1000])",
   "id": "a811e99278bb400e",
   "outputs": [
    {
     "name": "stdout",
     "output_type": "stream",
     "text": [
      "First Citizen:\n",
      "Before we proceed any further, hear me speak.\n",
      "\n",
      "All:\n",
      "Speak, speak.\n",
      "\n",
      "First Citizen:\n",
      "You are all resolved rather to die than to famish?\n",
      "\n",
      "All:\n",
      "Resolved. resolved.\n",
      "\n",
      "First Citizen:\n",
      "First, you know Caius Marcius is chief enemy to the people.\n",
      "\n",
      "All:\n",
      "We know't, we know't.\n",
      "\n",
      "First Citizen:\n",
      "Let us kill him, and we'll have corn at our own price.\n",
      "Is't a verdict?\n",
      "\n",
      "All:\n",
      "No more talking on't; let it be done: away, away!\n",
      "\n",
      "Second Citizen:\n",
      "One word, good citizens.\n",
      "\n",
      "First Citizen:\n",
      "We are accounted poor citizens, the patricians good.\n",
      "What authority surfeits on would relieve us: if they\n",
      "would yield us but the superfluity, while it were\n",
      "wholesome, we might guess they relieved us humanely;\n",
      "but they think we are too dear: the leanness that\n",
      "afflicts us, the object of our misery, is as an\n",
      "inventory to particularise their abundance; our\n",
      "sufferance is a gain to them Let us revenge this with\n",
      "our pikes, ere we become rakes: for the gods know I\n",
      "speak this in hunger for bread, not in thirst for revenge.\n",
      "\n",
      "\n"
     ]
    }
   ],
   "execution_count": 85
  },
  {
   "metadata": {
    "ExecuteTime": {
     "end_time": "2025-01-10T12:19:09.534509Z",
     "start_time": "2025-01-10T12:19:09.504356Z"
    }
   },
   "cell_type": "code",
   "source": [
    "characters = sorted(list(set(text)))\n",
    "vocab_size = len(characters)\n",
    "\n",
    "''.join(characters)"
   ],
   "id": "5245ba75b91bcc1b",
   "outputs": [
    {
     "data": {
      "text/plain": [
       "\"\\n !$&',-.3:;?ABCDEFGHIJKLMNOPQRSTUVWXYZabcdefghijklmnopqrstuvwxyz\""
      ]
     },
     "execution_count": 86,
     "metadata": {},
     "output_type": "execute_result"
    }
   ],
   "execution_count": 86
  },
  {
   "metadata": {
    "ExecuteTime": {
     "end_time": "2025-01-10T12:19:20.669356Z",
     "start_time": "2025-01-10T12:19:20.651872Z"
    }
   },
   "cell_type": "code",
   "source": [
    "s2i = {char: i for i, char in enumerate(characters)}\n",
    "i2s = {i: char for i, char in enumerate(characters)}\n",
    "\n",
    "encode = lambda text: [s2i[char] for char in text]\n",
    "decode = lambda text: ''.join([i2s[char] for char in text])\n",
    "\n",
    "encode('hi, nigger'), decode(encode('hi, nigger'))"
   ],
   "id": "5068e3c0702f7b6f",
   "outputs": [
    {
     "data": {
      "text/plain": [
       "([46, 47, 6, 1, 52, 47, 45, 45, 43, 56], 'hi, nigger')"
      ]
     },
     "execution_count": 88,
     "metadata": {},
     "output_type": "execute_result"
    }
   ],
   "execution_count": 88
  },
  {
   "metadata": {
    "ExecuteTime": {
     "end_time": "2025-01-10T12:19:33.569950Z",
     "start_time": "2025-01-10T12:19:33.549679Z"
    }
   },
   "cell_type": "code",
   "source": [
    "import tiktoken\n",
    "\n",
    "# Не будем использовать, но вообще это SOTA\n",
    "\n",
    "enc = tiktoken.encoding_for_model(\"gpt-4o\")\n",
    "enc.encode('hi, nigger'), enc.decode(enc.encode('hi, nigger'))"
   ],
   "id": "30be8b7c796bac0b",
   "outputs": [
    {
     "data": {
      "text/plain": [
       "([3686, 11, 297, 6895], 'hi, nigger')"
      ]
     },
     "execution_count": 90,
     "metadata": {},
     "output_type": "execute_result"
    }
   ],
   "execution_count": 90
  },
  {
   "metadata": {
    "ExecuteTime": {
     "end_time": "2025-01-10T12:20:28.049349Z",
     "start_time": "2025-01-10T12:20:27.840746Z"
    }
   },
   "cell_type": "code",
   "source": [
    "import torch\n",
    "\n",
    "tensor_data = torch.tensor(encode(text))\n",
    "train_tensor = tensor_data[:int(0.9 * len(tensor_data))]\n",
    "test_tensor = tensor_data[int(0.9 * len(tensor_data)):]\n",
    "train_tensor.shape, test_tensor.shape"
   ],
   "id": "c622580fb20eb5cf",
   "outputs": [
    {
     "data": {
      "text/plain": [
       "(torch.Size([1003854]), torch.Size([111540]))"
      ]
     },
     "execution_count": 92,
     "metadata": {},
     "output_type": "execute_result"
    }
   ],
   "execution_count": 92
  },
  {
   "metadata": {
    "ExecuteTime": {
     "end_time": "2025-01-10T12:21:32.563225Z",
     "start_time": "2025-01-10T12:21:32.552193Z"
    }
   },
   "cell_type": "code",
   "source": [
    "block_size = 8\n",
    "x = train_tensor[:block_size]\n",
    "y = train_tensor[1:block_size + 1]\n",
    "\n",
    "for t in range(block_size):\n",
    "    context = x[:t + 1]\n",
    "    target = y[t]\n",
    "    print(f\"When input is {context} the Target: {target}\")"
   ],
   "id": "91668c5f03e8fc97",
   "outputs": [
    {
     "name": "stdout",
     "output_type": "stream",
     "text": [
      "When input is tensor([18]) the Target: 47\n",
      "When input is tensor([18, 47]) the Target: 56\n",
      "When input is tensor([18, 47, 56]) the Target: 57\n",
      "When input is tensor([18, 47, 56, 57]) the Target: 58\n",
      "When input is tensor([18, 47, 56, 57, 58]) the Target: 1\n",
      "When input is tensor([18, 47, 56, 57, 58,  1]) the Target: 15\n",
      "When input is tensor([18, 47, 56, 57, 58,  1, 15]) the Target: 47\n",
      "When input is tensor([18, 47, 56, 57, 58,  1, 15, 47]) the Target: 58\n"
     ]
    }
   ],
   "execution_count": 96
  },
  {
   "metadata": {
    "ExecuteTime": {
     "end_time": "2025-01-10T12:27:37.536153Z",
     "start_time": "2025-01-10T12:27:37.512355Z"
    }
   },
   "cell_type": "code",
   "source": [
    "torch.manual_seed(1337)\n",
    "batch_size = 4\n",
    "block_size = 8\n",
    "\n",
    "\n",
    "def get_batch(split):\n",
    "    data = train_tensor if split == 'train' else test_tensor\n",
    "    ix = torch.randint(len(data) - block_size, (batch_size,))\n",
    "    x = torch.stack([data[i:i + block_size] for i in ix])\n",
    "    y = torch.stack([data[i + 1:i + block_size + 1] for i in ix])\n",
    "    return x, y\n",
    "\n",
    "\n",
    "xb, yb = get_batch('train')\n",
    "print('inputs:')\n",
    "print(xb.shape)\n",
    "print(xb)\n",
    "print('targets:')\n",
    "print(yb.shape)\n",
    "print(yb)\n",
    "\n",
    "print(' ---- ')\n",
    "\n",
    "for b in range(batch_size):  # batch dimension\n",
    "    for t in range(block_size):  # time dimension\n",
    "        context = xb[b, : t + 1]\n",
    "        target = yb[b, t]\n",
    "        print(f\"When input is {context.tolist()} the Target: {target}\")\n",
    "    print()"
   ],
   "id": "b5108bbc31f32bb9",
   "outputs": [
    {
     "name": "stdout",
     "output_type": "stream",
     "text": [
      "inputs:\n",
      "torch.Size([4, 8])\n",
      "tensor([[24, 43, 58,  5, 57,  1, 46, 43],\n",
      "        [44, 53, 56,  1, 58, 46, 39, 58],\n",
      "        [52, 58,  1, 58, 46, 39, 58,  1],\n",
      "        [25, 17, 27, 10,  0, 21,  1, 54]])\n",
      "targets:\n",
      "torch.Size([4, 8])\n",
      "tensor([[43, 58,  5, 57,  1, 46, 43, 39],\n",
      "        [53, 56,  1, 58, 46, 39, 58,  1],\n",
      "        [58,  1, 58, 46, 39, 58,  1, 46],\n",
      "        [17, 27, 10,  0, 21,  1, 54, 39]])\n",
      " ---- \n",
      "When input is [24] the Target: 43\n",
      "When input is [24, 43] the Target: 58\n",
      "When input is [24, 43, 58] the Target: 5\n",
      "When input is [24, 43, 58, 5] the Target: 57\n",
      "When input is [24, 43, 58, 5, 57] the Target: 1\n",
      "When input is [24, 43, 58, 5, 57, 1] the Target: 46\n",
      "When input is [24, 43, 58, 5, 57, 1, 46] the Target: 43\n",
      "When input is [24, 43, 58, 5, 57, 1, 46, 43] the Target: 39\n",
      "\n",
      "When input is [44] the Target: 53\n",
      "When input is [44, 53] the Target: 56\n",
      "When input is [44, 53, 56] the Target: 1\n",
      "When input is [44, 53, 56, 1] the Target: 58\n",
      "When input is [44, 53, 56, 1, 58] the Target: 46\n",
      "When input is [44, 53, 56, 1, 58, 46] the Target: 39\n",
      "When input is [44, 53, 56, 1, 58, 46, 39] the Target: 58\n",
      "When input is [44, 53, 56, 1, 58, 46, 39, 58] the Target: 1\n",
      "\n",
      "When input is [52] the Target: 58\n",
      "When input is [52, 58] the Target: 1\n",
      "When input is [52, 58, 1] the Target: 58\n",
      "When input is [52, 58, 1, 58] the Target: 46\n",
      "When input is [52, 58, 1, 58, 46] the Target: 39\n",
      "When input is [52, 58, 1, 58, 46, 39] the Target: 58\n",
      "When input is [52, 58, 1, 58, 46, 39, 58] the Target: 1\n",
      "When input is [52, 58, 1, 58, 46, 39, 58, 1] the Target: 46\n",
      "\n",
      "When input is [25] the Target: 17\n",
      "When input is [25, 17] the Target: 27\n",
      "When input is [25, 17, 27] the Target: 10\n",
      "When input is [25, 17, 27, 10] the Target: 0\n",
      "When input is [25, 17, 27, 10, 0] the Target: 21\n",
      "When input is [25, 17, 27, 10, 0, 21] the Target: 1\n",
      "When input is [25, 17, 27, 10, 0, 21, 1] the Target: 54\n",
      "When input is [25, 17, 27, 10, 0, 21, 1, 54] the Target: 39\n",
      "\n"
     ]
    }
   ],
   "execution_count": 109
  },
  {
   "metadata": {
    "ExecuteTime": {
     "end_time": "2025-01-10T12:28:01.657465Z",
     "start_time": "2025-01-10T12:28:01.650525Z"
    }
   },
   "cell_type": "code",
   "source": "xb",
   "id": "ad67dc89eed31dbf",
   "outputs": [
    {
     "data": {
      "text/plain": [
       "tensor([[24, 43, 58,  5, 57,  1, 46, 43],\n",
       "        [44, 53, 56,  1, 58, 46, 39, 58],\n",
       "        [52, 58,  1, 58, 46, 39, 58,  1],\n",
       "        [25, 17, 27, 10,  0, 21,  1, 54]])"
      ]
     },
     "execution_count": 110,
     "metadata": {},
     "output_type": "execute_result"
    }
   ],
   "execution_count": 110
  },
  {
   "metadata": {
    "ExecuteTime": {
     "end_time": "2025-01-10T12:57:17.028627Z",
     "start_time": "2025-01-10T12:57:16.969612Z"
    }
   },
   "cell_type": "code",
   "source": [
    "import torch\n",
    "import torch.nn as nn\n",
    "from torch.nn import functional as F\n",
    "\n",
    "torch.manual_seed(1337)\n",
    "\n",
    "\n",
    "class BigramLanguageModel(nn.Module):\n",
    "\n",
    "    def __init__(self, vocab_size):\n",
    "        super().__init__()\n",
    "        # each token directly reads off the logits for the next token from a lookup table\n",
    "        self.token_embedding_table = nn.Embedding(vocab_size, vocab_size)\n",
    "\n",
    "    def forward(self, idx, targets=None):\n",
    "        # idx and targets are both (B,T) tensor of integers\n",
    "        logits = self.token_embedding_table(idx)  # (B,T,C)\n",
    "\n",
    "        if targets is None:\n",
    "            loss = None\n",
    "        else:\n",
    "            B, T, C = logits.shape\n",
    "            logits = logits.view(B * T, C)\n",
    "            targets = targets.view(B * T)\n",
    "            loss = F.cross_entropy(logits, targets)\n",
    "\n",
    "        return logits, loss\n",
    "\n",
    "    def generate(self, idx, max_new_tokens):\n",
    "        # idx Is (B, T) array of indices in the current context\n",
    "        for _ in range(max_new_tokens):\n",
    "            # get the predictions\n",
    "            logits, loss = self(idx)\n",
    "            # focus only on the last time step\n",
    "            logits = logits[:, -1, :]  # becomes (B, C)\n",
    "            # apply softmax to get probabilities\n",
    "            probs = F.softmax(logits, dim=- 1)  # (B, C)\n",
    "            # sample from the distribution\n",
    "            idx_next = torch.multinomial(probs, num_samples=1)  # (B, 1)\n",
    "            # append sampled index to the running sequence\n",
    "            idx = torch.cat((idx, idx_next), dim=1)  # (B, T+1)\n",
    "        return idx\n",
    "\n",
    "\n",
    "model = BigramLanguageModel(vocab_size)\n",
    "logits, loss = model(xb, yb)\n",
    "print(logits.shape)\n",
    "print(loss)\n",
    "\n",
    "idx = torch.zeros((1, 1), dtype=torch.long)\n",
    "print(decode(model.generate(idx, max_new_tokens=100)[0].tolist()))"
   ],
   "id": "f8c1c81f728c5d12",
   "outputs": [
    {
     "name": "stdout",
     "output_type": "stream",
     "text": [
      "torch.Size([32, 65])\n",
      "tensor(4.8786, grad_fn=<NllLossBackward0>)\n",
      "\n",
      "Sr?qP-QWktXoL&jLDJgOLVz'RIoDqHdhsV&vLLxatjscMpwLERSPyao.qfzs$Ys$zF-w,;eEkzxjgCKFChs!iWW.ObzDnxA Ms$3\n"
     ]
    }
   ],
   "execution_count": 124
  },
  {
   "metadata": {
    "ExecuteTime": {
     "end_time": "2025-01-10T12:58:29.881807Z",
     "start_time": "2025-01-10T12:58:29.863063Z"
    }
   },
   "cell_type": "code",
   "source": "optimizer = torch.optim.Adam(model.parameters(), lr=1e-2)",
   "id": "571ddca53178058b",
   "outputs": [],
   "execution_count": 130
  },
  {
   "metadata": {
    "ExecuteTime": {
     "end_time": "2025-01-10T13:10:38.979105Z",
     "start_time": "2025-01-10T13:10:38.969155Z"
    }
   },
   "cell_type": "code",
   "source": [
    "eval_iters = 100\n",
    "\n",
    "\n",
    "@torch.no_grad()\n",
    "def estimate_loss():\n",
    "    out = {}\n",
    "    model.eval()\n",
    "    for split in ['train', 'val']:\n",
    "        losses = torch.zeros(eval_iters)\n",
    "        for k in range(eval_iters):\n",
    "            X, Y = get_batch(split)\n",
    "            logits, loss = model(X, Y)\n",
    "            losses[k] = loss.item()\n",
    "        out[split] = losses.mean()\n",
    "    model.train()\n",
    "    return out"
   ],
   "id": "2b0819634d418bf",
   "outputs": [],
   "execution_count": 150
  },
  {
   "metadata": {
    "ExecuteTime": {
     "end_time": "2025-01-10T13:13:23.955515Z",
     "start_time": "2025-01-10T13:13:03.673553Z"
    }
   },
   "cell_type": "code",
   "source": [
    "batch_size = 32\n",
    "for steps in range(10000):\n",
    "    # sample a batch of data\n",
    "\n",
    "    # every once in a while evaluate the loss on train and val sets\n",
    "    if steps % 1000 == 0:\n",
    "        losses = estimate_loss()\n",
    "        print(f\"step {steps}: train loss {losses['train']:.4f}, val loss {losses['val']:.4f}\")\n",
    "\n",
    "    xb, yb = get_batch('train')\n",
    "\n",
    "    # evaluate the loss\n",
    "    logits, loss = model(xb, yb)\n",
    "    optimizer.zero_grad(set_to_none=True)\n",
    "    loss.backward()\n",
    "    optimizer.step()"
   ],
   "id": "94d7af8cd784fe55",
   "outputs": [
    {
     "name": "stdout",
     "output_type": "stream",
     "text": [
      "step 0: train loss 2.4603, val loss 2.5110\n",
      "step 1000: train loss 2.4531, val loss 2.4810\n",
      "step 2000: train loss 2.4530, val loss 2.4799\n",
      "step 3000: train loss 2.4542, val loss 2.4980\n",
      "step 4000: train loss 2.4666, val loss 2.4899\n",
      "step 5000: train loss 2.4596, val loss 2.4864\n",
      "step 6000: train loss 2.4506, val loss 2.4925\n",
      "step 7000: train loss 2.4436, val loss 2.4919\n",
      "step 8000: train loss 2.4508, val loss 2.5037\n",
      "step 9000: train loss 2.4491, val loss 2.5012\n"
     ]
    }
   ],
   "execution_count": 155
  },
  {
   "metadata": {
    "ExecuteTime": {
     "end_time": "2025-01-10T13:18:33.061218Z",
     "start_time": "2025-01-10T13:18:33.041954Z"
    }
   },
   "cell_type": "code",
   "source": [
    "idx = torch.tensor([[5]], dtype=torch.long)\n",
    "print(decode(model.generate(idx, max_new_tokens=5)[0].tolist()))"
   ],
   "id": "4959eda21bfcc7cb",
   "outputs": [
    {
     "name": "stdout",
     "output_type": "stream",
     "text": [
      "'ser, \n"
     ]
    }
   ],
   "execution_count": 205
  },
  {
   "metadata": {},
   "cell_type": "markdown",
   "source": "## Математический трюк self-attention",
   "id": "b24b1fcdd44ebdce"
  },
  {
   "metadata": {
    "ExecuteTime": {
     "end_time": "2025-01-10T13:19:15.968865Z",
     "start_time": "2025-01-10T13:19:15.955405Z"
    }
   },
   "cell_type": "code",
   "source": [
    "torch.manual_seed(1337)\n",
    "B, T, C = 4, 8, 2\n",
    "x = torch.rand(B, T, C)\n",
    "x.shape"
   ],
   "id": "15eda994322d71ad",
   "outputs": [
    {
     "data": {
      "text/plain": [
       "torch.Size([4, 8, 2])"
      ]
     },
     "execution_count": 207,
     "metadata": {},
     "output_type": "execute_result"
    }
   ],
   "execution_count": 207
  }
 ],
 "metadata": {
  "kernelspec": {
   "display_name": "Python 3",
   "language": "python",
   "name": "python3"
  },
  "language_info": {
   "codemirror_mode": {
    "name": "ipython",
    "version": 2
   },
   "file_extension": ".py",
   "mimetype": "text/x-python",
   "name": "python",
   "nbconvert_exporter": "python",
   "pygments_lexer": "ipython2",
   "version": "2.7.6"
  }
 },
 "nbformat": 4,
 "nbformat_minor": 5
}
