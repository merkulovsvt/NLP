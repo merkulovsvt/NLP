{
 "cells": [
  {
   "metadata": {},
   "cell_type": "markdown",
   "source": "# Работа с локальными и удаленными датасетами",
   "id": "eaba909f4f803072"
  },
  {
   "metadata": {},
   "cell_type": "markdown",
   "source": "## Локальный датасет",
   "id": "fcd989796f796d00"
  },
  {
   "metadata": {
    "ExecuteTime": {
     "end_time": "2025-04-03T15:11:30.774924Z",
     "start_time": "2025-04-03T15:11:30.754434Z"
    }
   },
   "cell_type": "code",
   "source": [
    "import pandas as pd\n",
    "\n",
    "data = pd.read_csv('Data/my_file.csv').drop(columns=['id', 'keyword', 'location'])\n",
    "data.head()"
   ],
   "id": "9dc3352ae431f3fd",
   "outputs": [
    {
     "data": {
      "text/plain": [
       "                                                text  target\n",
       "0  Our Deeds are the Reason of this #earthquake M...       1\n",
       "1             Forest fire near La Ronge Sask. Canada       1\n",
       "2  All residents asked to 'shelter in place' are ...       1\n",
       "3  13,000 people receive #wildfires evacuation or...       1\n",
       "4  Just got sent this photo from Ruby #Alaska as ...       1"
      ],
      "text/html": [
       "<div>\n",
       "<style scoped>\n",
       "    .dataframe tbody tr th:only-of-type {\n",
       "        vertical-align: middle;\n",
       "    }\n",
       "\n",
       "    .dataframe tbody tr th {\n",
       "        vertical-align: top;\n",
       "    }\n",
       "\n",
       "    .dataframe thead th {\n",
       "        text-align: right;\n",
       "    }\n",
       "</style>\n",
       "<table border=\"1\" class=\"dataframe\">\n",
       "  <thead>\n",
       "    <tr style=\"text-align: right;\">\n",
       "      <th></th>\n",
       "      <th>text</th>\n",
       "      <th>target</th>\n",
       "    </tr>\n",
       "  </thead>\n",
       "  <tbody>\n",
       "    <tr>\n",
       "      <th>0</th>\n",
       "      <td>Our Deeds are the Reason of this #earthquake M...</td>\n",
       "      <td>1</td>\n",
       "    </tr>\n",
       "    <tr>\n",
       "      <th>1</th>\n",
       "      <td>Forest fire near La Ronge Sask. Canada</td>\n",
       "      <td>1</td>\n",
       "    </tr>\n",
       "    <tr>\n",
       "      <th>2</th>\n",
       "      <td>All residents asked to 'shelter in place' are ...</td>\n",
       "      <td>1</td>\n",
       "    </tr>\n",
       "    <tr>\n",
       "      <th>3</th>\n",
       "      <td>13,000 people receive #wildfires evacuation or...</td>\n",
       "      <td>1</td>\n",
       "    </tr>\n",
       "    <tr>\n",
       "      <th>4</th>\n",
       "      <td>Just got sent this photo from Ruby #Alaska as ...</td>\n",
       "      <td>1</td>\n",
       "    </tr>\n",
       "  </tbody>\n",
       "</table>\n",
       "</div>"
      ]
     },
     "execution_count": 21,
     "metadata": {},
     "output_type": "execute_result"
    }
   ],
   "execution_count": 21
  },
  {
   "metadata": {
    "ExecuteTime": {
     "end_time": "2025-04-03T15:16:14.833176Z",
     "start_time": "2025-04-03T15:16:14.339623Z"
    }
   },
   "cell_type": "code",
   "source": [
    "from datasets import load_dataset\n",
    "\n",
    "csv_dataset = load_dataset('csv', data_files='Data/my_file.csv')\n",
    "csv_dataset = csv_dataset.remove_columns(['id', 'keyword', 'location'])\n",
    "\n",
    "# text_dataset = load_dataset('text', data_files='my_file.txt', field=\"data\")\n",
    "# json_dataset = load_dataset('json', data_files='my_file.json', field=\"data\")\n",
    "# parquet_dataset = load_dataset('c', data_files='my_file.parquet', field=\"data\")\n",
    "\n",
    "csv_dataset"
   ],
   "id": "2a7c6c7b5473d41b",
   "outputs": [
    {
     "data": {
      "text/plain": [
       "DatasetDict({\n",
       "    train: Dataset({\n",
       "        features: ['text', 'target'],\n",
       "        num_rows: 7613\n",
       "    })\n",
       "})"
      ]
     },
     "execution_count": 26,
     "metadata": {},
     "output_type": "execute_result"
    }
   ],
   "execution_count": 26
  },
  {
   "metadata": {},
   "cell_type": "markdown",
   "source": "Выше мы сделали только train часть в нашем DatasetDict",
   "id": "87f89c51cdb7aa76"
  },
  {
   "metadata": {
    "ExecuteTime": {
     "end_time": "2025-04-03T15:17:18.320404Z",
     "start_time": "2025-04-03T15:17:17.773077Z"
    }
   },
   "cell_type": "code",
   "source": [
    "from с import load_dataset\n",
    "\n",
    "data_files = {\"train\": \"Data/train.csv\", \"test\": \"Data/test.csv\"}\n",
    "csv_dataset = load_dataset('csv', data_files=data_files)\n",
    "csv_dataset = csv_dataset.remove_columns(['id', 'keyword', 'location'])\n",
    "\n",
    "csv_dataset"
   ],
   "id": "83694226927382cb",
   "outputs": [
    {
     "data": {
      "text/plain": [
       "Generating train split: 0 examples [00:00, ? examples/s]"
      ],
      "application/vnd.jupyter.widget-view+json": {
       "version_major": 2,
       "version_minor": 0,
       "model_id": "f230211f668847359ca49f65aba78008"
      }
     },
     "metadata": {},
     "output_type": "display_data"
    },
    {
     "data": {
      "text/plain": [
       "Generating test split: 0 examples [00:00, ? examples/s]"
      ],
      "application/vnd.jupyter.widget-view+json": {
       "version_major": 2,
       "version_minor": 0,
       "model_id": "6d264bb60d904eacbdb4754110dddcde"
      }
     },
     "metadata": {},
     "output_type": "display_data"
    },
    {
     "data": {
      "text/plain": [
       "DatasetDict({\n",
       "    train: Dataset({\n",
       "        features: ['text', 'target'],\n",
       "        num_rows: 7613\n",
       "    })\n",
       "    test: Dataset({\n",
       "        features: ['text', 'target'],\n",
       "        num_rows: 7613\n",
       "    })\n",
       "})"
      ]
     },
     "execution_count": 27,
     "metadata": {},
     "output_type": "execute_result"
    }
   ],
   "execution_count": 27
  },
  {
   "metadata": {},
   "cell_type": "markdown",
   "source": "## Удаленный датасет",
   "id": "b2c6638bdf1a51f8"
  },
  {
   "metadata": {
    "ExecuteTime": {
     "end_time": "2025-04-03T15:19:18.614685Z",
     "start_time": "2025-04-03T15:19:16.319712Z"
    }
   },
   "cell_type": "code",
   "source": [
    "from datasets import load_dataset\n",
    "\n",
    "url = \"https://github.com/crux82/squad-it/raw/master/\"\n",
    "data_files = {\n",
    "    \"train\": url + \"SQuAD_it-train.json.gz\",\n",
    "    \"test\": url + \"SQuAD_it-test.json.gz\",\n",
    "}\n",
    "squad_it_dataset = load_dataset(\"json\", data_files=data_files, field=\"data\")\n",
    "squad_it_dataset"
   ],
   "id": "4e7539aae2231634",
   "outputs": [
    {
     "data": {
      "text/plain": [
       "DatasetDict({\n",
       "    train: Dataset({\n",
       "        features: ['title', 'paragraphs'],\n",
       "        num_rows: 442\n",
       "    })\n",
       "    test: Dataset({\n",
       "        features: ['title', 'paragraphs'],\n",
       "        num_rows: 48\n",
       "    })\n",
       "})"
      ]
     },
     "execution_count": 30,
     "metadata": {},
     "output_type": "execute_result"
    }
   ],
   "execution_count": 30
  },
  {
   "metadata": {},
   "cell_type": "markdown",
   "source": "# Модификация датасета",
   "id": "9fbd97a2a46fed46"
  },
  {
   "metadata": {},
   "cell_type": "markdown",
   "source": "## Управление данными",
   "id": "e1cf261cb2f5ac69"
  },
  {
   "metadata": {},
   "cell_type": "markdown",
   "source": "Хорошей практикой при исследовании данных является взятие небольшого случайного подмножества для понимания типов данных и их особенностей.",
   "id": "f3cad6d389e7b95b"
  },
  {
   "metadata": {
    "ExecuteTime": {
     "end_time": "2025-04-03T15:30:31.095031Z",
     "start_time": "2025-04-03T15:30:31.081130Z"
    }
   },
   "cell_type": "code",
   "source": [
    "squad_it_sample = squad_it_dataset[\"train\"].shuffle().select(range(100))\n",
    "squad_it_sample[0]"
   ],
   "id": "413c93138b1177bd",
   "outputs": [
    {
     "data": {
      "text/plain": [
       "{'title': 'Fonologia',\n",
       " 'paragraphs': [{'context': \"La fonologia è una branca della linguistica che si occupa dell' organizzazione sistematica dei suoni nelle lingue. Tradizionalmente si è focalizzato in gran parte sullo studio dei sistemi di fonemi in particolari lingue (e quindi si chiamava anche fonemica, o fonematica), ma può anche coprire qualsiasi analisi linguistica ad un livello sotto la parola (compresa sillaba, esordio e rima, gesti articolati, caratteristiche articolari, morena, ecc. o a tutti i livelli di lingua in cui il suono è considerato strutturato per trasmettere un significato linguistico.\",\n",
       "   'qas': [{'answers': [{'answer_start': 191, 'text': 'fonemi'}],\n",
       "     'id': '56fc2c4e00a8df19004037bf',\n",
       "     'question': 'Che tipo di sistemi sono il fulcro tradizionale della fonologia?'},\n",
       "    {'answers': [{'answer_start': 3, 'text': 'fonologia'}],\n",
       "     'id': '56fc2c4e00a8df19004037c0',\n",
       "     'question': 'Lo studio del linguaggio dei segni è una parte di cosa?'}]},\n",
       "  {'context': \"La parola fonologia (come nella fonologia dell' inglese) può anche riferirsi al sistema fonologico (sistema sonoro) di una determinata lingua. Si tratta di uno dei sistemi fondamentali che una lingua è considerata come la sua sintassi e il suo vocabolario.\",\n",
       "   'qas': [{'answers': [{'answer_start': 244, 'text': 'vocabolario'}],\n",
       "     'id': '56fc2e0800a8df19004037c6',\n",
       "     'question': \"A parte la sintassi e il sistema fonologico, cos' altro comprende un linguaggio?\"}]},\n",
       "  {'context': \"La fonologia è spesso distinta dalla fonetica. Mentre la fonetica riguarda la produzione fisica, la trasmissione acustica e la percezione dei suoni del parlato, la fonologia descrive il modo in cui i suoni funzionano all' interno di una determinata lingua o tra lingue per codificare il significato. Per molti linguisti, la fonetica appartiene alla linguistica descrittiva, e la fonologia alla linguistica teorica, anche se stabilire il sistema fonologico di una lingua è necessariamente un' applicazione di principi teorici all' analisi delle evidenze fonetiche. Si noti che questa distinzione non è stata sempre fatta, in particolare prima dello sviluppo del concetto moderno di fonema alla metà del XX secolo. Alcuni sottocampi della fonologia moderna hanno un crossover con la fonetica in discipline descrittive come la psicolinguistica e la percezione del linguaggio, con il risultato di aree specifiche come la fonologia articolativa o la fonologia di laboratorio.\",\n",
       "   'qas': [{'answers': [{'answer_start': 37, 'text': 'fonetica'}],\n",
       "     'id': '56fc2f352603e71400409ff3',\n",
       "     'question': 'Da quale ramo della linguistica si distingue la fonologia?'},\n",
       "    {'answers': [{'answer_start': 349, 'text': 'linguistica'}],\n",
       "     'id': '56fc2f352603e71400409ff5',\n",
       "     'question': 'La fonologia è generalmente considerata parte del lato teorico di quale disciplina?'},\n",
       "    {'answers': [{'answer_start': 693, 'text': 'metà del XX secolo'}],\n",
       "     'id': '56fc2f352603e71400409ff6',\n",
       "     'question': 'Quando è stato sviluppato il concetto moderno del fonoma?'}]},\n",
       "  {'context': 'La parola \"fonologia\" deriva dal greco φωνή (\"phōnḗ\", \"voce\", \"suono\") e il suffisso -\"logia\" (dal greco λόγος, \"lógos\", \"parola\", \"discorso\"). Di questo termine sono state date varie definizioni, più o meno concordi, e spesso dipendenti interamente dalla teoria di riferimento. Nikolaj Trubeckoj in \"Principi di fonologia\" (1939) definisce la fonologia come \"lo studio dei suoni appartenenti al sistema del linguaggio\", come opposto alla fonetica, che è \"lo studio dei suoni appartenenti all\\'atto dell\\'enunciato\" (la distinzione tra linguaggio e atto linguistico è parallela a quella saussuriana di \"langue\" e \"parole\"). Più recentemente, è stato scritto che la fonologia si riferisce principalmente alla branca della linguistica che riguarda i suoni delle lingue, mentre, in senso più stretto, \"la fonologia propria riguarda la funzione, il comportamento e l\\'organizzazione dei suoni come unità linguistiche\". Secondo altri significa l\\'uso sistematico dei suoni per codificare significati in qualunque lingua umana o la branca della linguistica che studia questo uso.',\n",
       "   'qas': [{'answers': [{'answer_start': 113, 'text': 'lógos'}],\n",
       "     'id': '56fc2fec2603e71400409ffe',\n",
       "     'question': 'Da quale parola greca deriva la parola -logia?'},\n",
       "    {'answers': [{'answer_start': 132, 'text': 'discorso'}],\n",
       "     'id': '56fc2fec2603e7140040a000',\n",
       "     'question': 'È stata fatta una distinzione tra lingua e cosa?'}]},\n",
       "  {'context': \"La storia della fonologia si può far iniziare con l'Aṣṭādhyāyī, la grammatica sanscrita composta da Pāṇini, verso il IV secolo a.C. In particolare, gli Śiva Sutra (Śivasūtrāṇi), un testo ausiliare alla grammatica paniniana, introduce quello che può essere considerato un elenco di fonemi della lingua sanscrita, con un sistema di notazione che è usato in tutto il testo, il quale tratta anche di morfologia, sintassi e semantica.\",\n",
       "   'qas': [{'answers': [{'answer_start': 29, 'text': 'P'}],\n",
       "     'id': '56fc30d800a8df19004037e2',\n",
       "     'question': 'ini?'}]},\n",
       "  {'context': 'Lo studioso polacco Baudouin de Courtenay (insieme al suo ex studente Mikołaj Kruszewski) introdusse il concetto di fonema nel 1876 e il suo lavoro, anche se spesso non riconosciuto, è considerato il punto di partenza della moderna fonologia. De Courtenay ha anche lavorato alla teorie delle alternanze fonetiche (ciò che è chiamato ora allofonia e morfofonologia) e ha avuto una significativa influenza sul lavoro di Ferdinand de Saussure.',\n",
       "   'qas': [{'answers': [{'answer_start': 127, 'text': '1876'}],\n",
       "     'id': '56fc316300a8df19004037ea',\n",
       "     'question': 'Quando è stato introdotto il fonema come concetto?'},\n",
       "    {'answers': [{'answer_start': 70, 'text': 'Mikołaj Kruszewski'}],\n",
       "     'id': '56fc316300a8df19004037eb',\n",
       "     'question': 'Chi era lo studente di Jan Baudouin de Courtenay?'},\n",
       "    {'answers': [{'answer_start': 12, 'text': 'polacco'}],\n",
       "     'id': '56fc316300a8df19004037ec',\n",
       "     'question': 'Quale nazionalità era de Courtenay?'}]},\n",
       "  {'context': 'Una scuola che ha influenzato la fonologia durante il periodo tra le due guerre fu la Scuola di Praga. Uno dei suoi membri fu il principe Nikolaj Trubeckoj: i suoi \"Grundzüge der Phonologie\" (\"Principi di Fonologia\"), pubblicati postumi nel 1939, sono tra i lavori più importanti di quel periodo nel campo della fonologia. Direttamente influenzato da Baudouin de Courtenay, Trubeckoj è considerato il fondatore della morfofonologia, benché questo concetto fu anche riconosciuto da de Courtenay. Trubeckoj sviluppò anche il concetto di \"arcifonema\". Un\\'altra importante figura nella Scuola di Praga fu Roman Jakobson, il quale è riconosciuto come il più prominente linguista del XX secolo.',\n",
       "   'qas': [{'answers': [{'answer_start': 193,\n",
       "       'text': 'Principi di Fonologia'}],\n",
       "     'id': '56fc36ad2603e7140040a01b',\n",
       "     'question': 'Qual è stata la pubblicazione di Nikolai Trubetzkoy?'},\n",
       "    {'answers': [{'answer_start': 241, 'text': '1939'}],\n",
       "     'id': '56fc36ad2603e7140040a01c',\n",
       "     'question': 'Quando sono stati pubblicati i Principi di fonologia?'},\n",
       "    {'answers': [{'answer_start': 417, 'text': 'morfofonologia'}],\n",
       "     'id': '56fc36ad2603e7140040a01d',\n",
       "     'question': 'Che cosa si ritiene abbia fondato Trubetzkoy?'},\n",
       "    {'answers': [{'answer_start': 83, 'text': 'la Scuola di Praga'}],\n",
       "     'id': '56fc36ad2603e7140040a01e',\n",
       "     'question': 'Di quale scuola faceva parte Trubetzkoy?'},\n",
       "    {'answers': [{'answer_start': 129, 'text': 'principe'}],\n",
       "     'id': '56fc36ad2603e7140040a01f',\n",
       "     'question': 'Qual era il titolo di Trubetzkoy?'}]},\n",
       "  {'context': 'Nel 1968, Noam Chomsky e Morris Halle pubblicarono \"The Sound Pattern of English\", la base della \"fonologia generativa\". Secondo questa corrente, le rappresentazioni fonologiche dei segmenti che costituiscono i morfemi sono costituite da tratti distintivi. Questi tratti erano una espansione del precedente lavoro di Roman Jakobson, Gunnar Fant e Morris Halle. I tratti descrivono aspetti articolatori e percettivi, sono raggruppati in un insieme universalmente fissato e posseggono forma binaria (ogni tratto può assumere il valore \"+\", che indica presenza del tratto, o il valore \"-\", che indica la sua assenza). Ci sono almeno due livelli di rappresentazione: la rappresentazione soggiacente e la rappresentazione (fonetica) di superficie. Delle regole fonologiche ordinate permettono di derivare la rappresentazione soggiacente in quella di superficie. Una conseguenza importante dell\\'influenza di \"The Sound Pattern of English\" fu la diminuzione dell\\'importanza della sillaba a favore dei segmenti. Inoltre i generativisti inclusero la morfofonologia nella fonologia, cosa che creò e risolse problemi allo stesso tempo.',\n",
       "   'qas': [{'answers': [{'answer_start': 4, 'text': '1968'}],\n",
       "     'id': '56fc38192603e7140040a025',\n",
       "     'question': 'Quando è stato pubblicato The Sound Pattern of English?'},\n",
       "    {'answers': [{'answer_start': 25, 'text': 'Morris Halle'}],\n",
       "     'id': '56fc38192603e7140040a026',\n",
       "     'question': 'Oltre a Chomsky chi altro ha pubblicato The Sound Pattern of English?'},\n",
       "    {'answers': [{'answer_start': 1041, 'text': 'morfofonologia'}],\n",
       "     'id': '56fc38192603e7140040a028',\n",
       "     'question': 'Quale altra disciplina è stata combinata con la fonologia dai generativisti?'}]},\n",
       "  {'context': 'La \"fonologia naturale\" è una teoria basata sulle pubblicazioni del suo sostenitore David Stampe nel 1969 e (più esplicitamente) nel 1979. Secondo la sua visione, la fonologia è basata su un insieme di processi fonologici universali che interagiscono uno con l\\'altro; quali di questi sono attivi o soppressi in una lingua, dipende da lingua a lingua. Piuttosto che agire sui segmenti, questi processi operano sui tratti distintivi all\\'interno dei gruppi prosodici. I gruppi prosodici possono essere grandi come una parte di sillaba fino a un\\'intera proposizione. I processi fonologici non sono ordinati (a differenza della fonologia generativa), anche se il prodotto di uno può essere l\\'input di un altro. Tra gli altri fonologi naturali di rilievo vanno menzionati Patricia Donegan e Geoffrey Nathan. I principi della Fonologia Naturale furono estesi alla morfologia da Wolfgang U. Dressler, che fondo la Morfologia Naturale.',\n",
       "   'qas': [{'answers': [{'answer_start': 84, 'text': 'David Stampe'}],\n",
       "     'id': '56fc3a7400a8df1900403806',\n",
       "     'question': 'Quali pubblicazioni ha iniziato la teoria della fonologia naturale?'},\n",
       "    {'answers': [{'answer_start': 188,\n",
       "       'text': 'un insieme di processi fonologici universali'}],\n",
       "     'id': '56fc3a7400a8df1900403807',\n",
       "     'question': 'Secondo Stampe su cosa si basa la fonologia?'},\n",
       "    {'answers': [{'answer_start': 766, 'text': 'Patricia Donegan'}],\n",
       "     'id': '56fc3a7400a8df1900403809',\n",
       "     'question': 'Chi è il fonologo naturale numero due?'},\n",
       "    {'answers': [{'answer_start': 871, 'text': 'Wolfgang U'}],\n",
       "     'id': '56fc3a7400a8df190040380a',\n",
       "     'question': 'Chi è stato il fondatore della morfologia naturale?'}]},\n",
       "  {'context': \"Nel 1976 John Goldsmith introdusse la fonologia autosegmentale. I fenomeni fonologici non sono più visti come funzionanti su una sequenza lineare di segmenti, chiamati fonemi o combinazioni di elementi, ma piuttosto come composti da sequenze parallele di elementi che risiedono su più livelli. La fonologia autosegmentale si è poi evoluta in geometria delle caratteristiche, che è diventata la teoria standard della rappresentazione per le teorie dell' organizzazione della fonologia come diverso come la fonologia lessicale e teoria dell' ottimalità.\",\n",
       "   'qas': [{'answers': [{'answer_start': 9, 'text': 'John Goldsmith'}],\n",
       "     'id': '56fc3b342603e7140040a037',\n",
       "     'question': 'Chi ha fondato la fonologia autosegmentale?'},\n",
       "    {'answers': [{'answer_start': 4, 'text': '1976'}],\n",
       "     'id': '56fc3b342603e7140040a038',\n",
       "     'question': 'Quando John Goldsmith ha condiviso il suo lavoro?'}]},\n",
       "  {'context': \"La fonologia governativa, nata all' inizio degli anni Ottanta come tentativo di unificare le nozioni teoriche delle strutture sintattiche e fonologiche, si basa sul concetto che tutte le lingue seguono necessariamente un piccolo insieme di principi e variano a seconda della loro selezione di alcuni parametri binari. Cioè, tutte le strutture fonologiche delle lingue sono essenzialmente le stesse, ma c' è una variazione limitata che spiega le differenze nelle realizzazioni di superficie. I principi sono ritenuti inviolabili, anche se i parametri possono talvolta entrare in conflitto. Tra le figure di spicco in questo campo ricordiamo Jonathan Kaye, Jean Lowenstamm, Jean-Roger Vergnaud, Monik Charette e John Harris.\",\n",
       "   'qas': [{'answers': [{'answer_start': 411, 'text': 'variazione limitata'}],\n",
       "     'id': '56fc3bd800a8df1900403818',\n",
       "     'question': 'Che cosa è responsabile delle differenze nelle realizzazioni di superficie secondo la fonologia governativa?'}]},\n",
       "  {'context': \"In un corso presso l' istituto estivo LSA nel 1991, Alan Prince e Paul Smolensky svilupparono una teoria dell' ottimalità - un' architettura complessiva per la fonologia in base alla quale le lingue scelgono una pronuncia di una parola che meglio soddisfa un elenco di vincoli ordinati per importanza; un vincolo inferiore può essere violato quando la violazione è necessaria per obbedire a un vincolo superiore. L' approccio è stato presto esteso alla morfologia da John McCarthy e Alan Prince, ed è diventato una tendenza dominante nella fonologia. L' appello alla base fonetica dei vincoli e degli elementi di rappresentazione (ad esempio ) in vari approcci è stato criticato da sostenitori della' fonologia senza sostanze', in particolare Mark Hale e Charles Reiss. 1991.\",\n",
       "   'qas': [{'answers': [{'answer_start': 46, 'text': '1991'}],\n",
       "     'id': '56fc3e072603e7140040a03d',\n",
       "     'question': \"Dove è stata creata la teoria dell' ottimalità?\"},\n",
       "    {'answers': [{'answer_start': 467, 'text': 'John McCarthy'}],\n",
       "     'id': '56fc3e072603e7140040a03e',\n",
       "     'question': \"A parte Alan Prince che ha portato alla morfologia la teoria dell' ottimalità?\"},\n",
       "    {'answers': [{'answer_start': 743, 'text': 'Mark Hale e Charles Reiss'}],\n",
       "     'id': '56fc3e072603e7140040a03f',\n",
       "     'question': \"Chi erano i critici di spicco della teoria dell' ottimalità?\"}]},\n",
       "  {'context': \"In generale, la fonologia governativa (o il suo discendente, strict-CV fonologia) ha un maggiore seguito nel Regno Unito, mentre la teoria dell' ottimalità è predominante negli Stati Uniti.\",\n",
       "   'qas': [{'answers': [{'answer_start': 109, 'text': 'Regno Unito,'}],\n",
       "     'id': '56fc3e7800a8df1900403825',\n",
       "     'question': 'Dove è popolare la fonologia del governo?'}]},\n",
       "  {'context': 'Un approccio integrato alla teoria fonologica che combina conti sincronici e diacronici a modelli sonori è stato avviato con la Fonologia Evolutiva negli ultimi anni.',\n",
       "   'qas': [{'answers': [{'answer_start': 28, 'text': 'teoria fonologica'}],\n",
       "     'id': '56fc3f0e00a8df190040382a',\n",
       "     'question': \"Che cos' è la fonologia evolutiva un approccio integrato?\"},\n",
       "    {'answers': [{'answer_start': 58,\n",
       "       'text': 'conti sincronici e diacronici'}],\n",
       "     'id': '56fc3f0e00a8df190040382b',\n",
       "     'question': 'Cosa si combina con i pattern sonori della fonologia evolutiva?'},\n",
       "    {'answers': [{'answer_start': 13, 'text': 'integrato'}],\n",
       "     'id': '56fc3f0e00a8df190040382d',\n",
       "     'question': 'Che tipo di approccio ha adottato la Fonologia Evolutiva?'}]},\n",
       "  {'context': 'Una parte importante delle tradizionali scuole di fonologia pre-generativa sta studiando quali suoni possono essere raggruppati in unità distintive all\\' interno di una lingua; queste unità sono conosciute come fonemi. Per esempio, in inglese, il suono \"p\" in pentola è aspirato (pronunciato[p?]) mentre quello in spot non è aspirato (pronunciato[p]). Tuttavia, i parlanti inglesi trattano intuitivamente entrambi i suoni come variazioni (allofoni) della stessa categoria fonologica, cioè del fonema /p/. (Tradizionalmente, si potrebbe sostenere che se un aspirato[p?] fosse scambiato con l\\' unaspirato[p] nello spot, i madrelingua inglese sentirebbero ancora le stesse parole; cioè, i due suoni sono percepiti come \"gli stessi\" /p/.) In alcune altre lingue, tuttavia, questi due suoni sono percepiti come diversi e di conseguenza vengono assegnati a fonemi diversi. Ad esempio, in Thai, Hindi e Quechua, ci sono coppie minime di parole per le quali l\\' aspirazione è l\\' unica caratteristica in contrasto (due parole possono avere significati diversi ma con l\\' unica differenza di pronuncia è che una ha un suono aspirato dove l\\' altra ha un suono non ventilato).',\n",
       "   'qas': [{'answers': [{'answer_start': 210, 'text': 'fonemi'}],\n",
       "     'id': '56fc43d900a8df1900403832',\n",
       "     'question': 'Quali sono le unità chiamate che studi fonologici tradizionali?'},\n",
       "    {'answers': [{'answer_start': 438, 'text': 'allofoni'}],\n",
       "     'id': '56fc43d900a8df1900403833',\n",
       "     'question': \"Che cosa è un' altra parola per variazioni?\"}]},\n",
       "  {'context': \"Parte dello studio fonologico di una lingua comporta quindi l' esame dei dati (trascrizioni fonetiche del parlato di madrelingua) e il tentativo di dedurre ciò che sono i fonemi sottostanti e ciò che è l' inventario sonoro della lingua. La presenza o l' assenza di coppie minime, come accennato in precedenza, è un criterio frequentemente utilizzato per decidere se due suoni debbano essere assegnati allo stesso fonema. Tuttavia, spesso è necessario tener conto anche di altre considerazioni.\",\n",
       "   'qas': [{'answers': [{'answer_start': 19, 'text': 'fonologico'}],\n",
       "     'id': '56fc44bb2603e7140040a04b',\n",
       "     'question': 'Che tipo di studio linguistico consiste nel cercare di dedurre le fonie soggiacenti?'}]},\n",
       "  {'context': 'I contrasti particolari che sono fonemici in una lingua possono cambiare nel tempo. Un tempo,[f] e[v], due suoni che hanno lo stesso posto e la stessa modalità di articolazione e si differenziano nella sola voicing, erano allofoni dello stesso fonema in inglese, ma successivamente appartenevano a fonemi separati. Questo è uno dei principali fattori di cambiamento storico delle lingue come descritto nella linguistica storica.',\n",
       "   'qas': [{'answers': [{'answer_start': 366, 'text': 'storico'}],\n",
       "     'id': '56fc86e1b53dbe190075511d',\n",
       "     'question': 'Che tipo di linguistica descrive come cambiano i fattori linguistici nella storia?'},\n",
       "    {'answers': [{'answer_start': 2, 'text': 'contrasti'}],\n",
       "     'id': '56fc86e1b53dbe190075511e',\n",
       "     'question': 'Con il passare del tempo, quali particolari cose cambiano in una lingua?'},\n",
       "    {'answers': [{'answer_start': 234, 'text': 'lo stesso fonema'}],\n",
       "     'id': '56fc86e1b53dbe190075511f',\n",
       "     'question': 'In passato i suoni che ora appartengono a fonemi separati erano allofoni di che tipo di fonema in inglese?'}]},\n",
       "  {'context': \"I risultati e le intuizioni della percezione del parlato e della ricerca sulle articolazioni complicano l' idea tradizionale e piuttosto intuitiva di allofoni intercambiabili percepiti come lo stesso fonema. In primo luogo, gli allofoni intercambiabili dello stesso fonema possono causare parole irriconoscibili. In secondo luogo, il discorso reale, anche a livello di parola, è altamente co-articolato, quindi è problematico aspettarsi di essere in grado di unire le parole in segmenti semplici senza influenzare la percezione del parlato.\",\n",
       "   'qas': []},\n",
       "  {'context': \"I linguisti diversi, quindi, adottano approcci diversi al problema dell' assegnazione dei suoni ai fonemi. Ad esempio, essi differiscono nella misura in cui richiedono che gli allofoni siano foneticamente simili. Ci sono anche idee diverse riguardo al fatto che questo raggruppamento di suoni sia uno strumento puramente linguistico o rifletta un processo reale nel modo in cui il cervello umano elabora un linguaggio.\",\n",
       "   'qas': [{'answers': [{'answer_start': 90, 'text': 'suoni'}],\n",
       "     'id': '56fc88d898e8fc14001ea7d1',\n",
       "     'question': 'Cosa sono assegnati ai fonemi da linguisti diversi?'},\n",
       "    {'answers': [{'answer_start': 381, 'text': 'cervello'}],\n",
       "     'id': '56fc88d898e8fc14001ea7d2',\n",
       "     'question': 'Quale parte di un essere umano elabora il linguaggio?'},\n",
       "    {'answers': [{'answer_start': 176, 'text': 'allofoni'}],\n",
       "     'id': '56fc88d898e8fc14001ea7d3',\n",
       "     'question': 'La somiglianza fonetica di ciò che causa disaccordi tra linguisti?'}]},\n",
       "  {'context': \"A partire dai primi anni' 60, i linguisti teorici si sono allontanati dal concetto tradizionale di fonema, preferendo considerare le unità di base a un livello più astratto, come una componente dei morfemi; queste unità possono essere chiamate morfofonemi, e l' analisi usando questo approccio si chiama morfofonologia.\",\n",
       "   'qas': [{'answers': [{'answer_start': 164, 'text': 'astratto'}],\n",
       "     'id': '56fc89bbb53dbe190075512a',\n",
       "     'question': 'A che livello i linguisti teorici considerano le unità di base?'},\n",
       "    {'answers': [{'answer_start': 244, 'text': 'morfofonemi'}],\n",
       "     'id': '56fc89bbb53dbe190075512b',\n",
       "     'question': \"Qual è il nome dell' unità morfema di base?\"},\n",
       "    {'answers': [{'answer_start': 304, 'text': 'morfofonologia'}],\n",
       "     'id': '56fc89bbb53dbe190075512c',\n",
       "     'question': \"Qual è l' atto di analizzare i morfofoni chiamati?\"}]},\n",
       "  {'context': 'Oltre alle unità minimali che possono servire allo scopo di differenziare il significato (i fonemi), la fonologia studia come si alternano i suoni, cioè sostituirsi reciprocamente in forme diverse dello stesso morfema (allomorfi), nonché, ad esempio, struttura sillaba, sollecitazione, geometria delle caratteristiche, accento e intonazione. significato.',\n",
       "   'qas': [{'answers': [{'answer_start': 104, 'text': 'fonologia'}],\n",
       "     'id': '56fc965c98e8fc14001ea7d8',\n",
       "     'question': 'Lo studio della struttura della sillaba fa parte di quale disciplina?'}]},\n",
       "  {'context': \"La fonologia comprende anche argomenti come i fonotactici (i vincoli fonologici su ciò che i suoni possono apparire in quali posizioni in un dato linguaggio) e l' alternanza fonologica (come la pronuncia di un suono cambia attraverso l' applicazione di regole fonologiche, a volte in un dato ordine che può essere alimentato o sanguinante), così come la prosodia, lo studio dei sovrasegmenti e argomenti come lo stress e l' intonazione.\",\n",
       "   'qas': [{'answers': [{'answer_start': 354, 'text': 'prosodia'}],\n",
       "     'id': '56fc975cb53dbe1900755133',\n",
       "     'question': 'Sotto quale argomento sono studiati i super-segmenti?'},\n",
       "    {'answers': [{'answer_start': 3, 'text': 'fonologia'}],\n",
       "     'id': '56fc975cb53dbe1900755135',\n",
       "     'question': 'Fonotactica, alternanza fonologica e prosodia sono argomenti contenuti in quale disciplina?'},\n",
       "    {'answers': [{'answer_start': 354, 'text': 'prosodia'}],\n",
       "     'id': '56fc975cb53dbe1900755136',\n",
       "     'question': \"Lo stress e l' intonazione sono studiati sotto quale argomento?\"}]},\n",
       "  {'context': \"I principi dell' analisi fonologica possono essere applicati indipendentemente dalla modalità perché sono concepiti come strumenti analitici generali, non linguistici. Gli stessi principi sono stati applicati all' analisi dei linguaggi dei segni (vedi Phonemes in linguaggio dei segni), anche se le unità sub-lessicali non sono istanziate come suoni del parlato.\",\n",
       "   'qas': [{'answers': [{'answer_start': 121,\n",
       "       'text': 'strumenti analitici generali'}],\n",
       "     'id': '56fc989fb53dbe190075513b',\n",
       "     'question': \"Invece di essere linguistico-specifico, quali sono i principi dell' analisi fonologica che devono essere?\"},\n",
       "    {'answers': [{'answer_start': 226, 'text': 'linguaggi dei segni'}],\n",
       "     'id': '56fc989fb53dbe190075513c',\n",
       "     'question': \"A quali altri linguaggi sono stati applicati i principi dell' analisi fonologica?\"},\n",
       "    {'answers': [{'answer_start': 85, 'text': 'modalità'}],\n",
       "     'id': '56fc989fb53dbe190075513d',\n",
       "     'question': \"Quali sono i principi dell' analisi fonologica che possono essere applicati separatamente da quelli dell' analisi fonologica?\"},\n",
       "    {'answers': [{'answer_start': 299, 'text': 'unità sub-lessicali'}],\n",
       "     'id': '56fc989fb53dbe190075513e',\n",
       "     'question': 'Nei linguaggi dei segni che cosa non sono rappresentati come istanze di suoni del parlato?'}]}]}"
      ]
     },
     "execution_count": 35,
     "metadata": {},
     "output_type": "execute_result"
    }
   ],
   "execution_count": 35
  },
  {
   "metadata": {
    "ExecuteTime": {
     "end_time": "2025-04-03T15:40:26.693893Z",
     "start_time": "2025-04-03T15:40:26.662234Z"
    }
   },
   "cell_type": "code",
   "source": "squad_it_dataset['train'].__",
   "id": "ca438b9bb1fbd9fe",
   "outputs": [
    {
     "data": {
      "text/plain": [
       "'A Dataset backed by an Arrow table.'"
      ]
     },
     "execution_count": 44,
     "metadata": {},
     "output_type": "execute_result"
    }
   ],
   "execution_count": 44
  }
 ],
 "metadata": {
  "kernelspec": {
   "display_name": "Python 3",
   "language": "python",
   "name": "python3"
  },
  "language_info": {
   "codemirror_mode": {
    "name": "ipython",
    "version": 2
   },
   "file_extension": ".py",
   "mimetype": "text/x-python",
   "name": "python",
   "nbconvert_exporter": "python",
   "pygments_lexer": "ipython2",
   "version": "2.7.6"
  }
 },
 "nbformat": 4,
 "nbformat_minor": 5
}
