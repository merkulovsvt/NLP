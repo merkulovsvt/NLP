{
 "cells": [
  {
   "metadata": {},
   "cell_type": "markdown",
   "source": "# Transformers Pipeline",
   "id": "ae9b0525ef23455a"
  },
  {
   "metadata": {},
   "cell_type": "markdown",
   "source": "## Sentiment Analysis",
   "id": "b84fe5df35262726"
  },
  {
   "cell_type": "code",
   "id": "initial_id",
   "metadata": {
    "collapsed": true,
    "ExecuteTime": {
     "end_time": "2025-04-01T18:43:14.947838Z",
     "start_time": "2025-04-01T18:43:14.227984Z"
    }
   },
   "source": [
    "from transformers import pipeline\n",
    "\n",
    "classifier = pipeline(task='sentiment-analysis')\n",
    "classifier(['big Nigga Balls', 'Big Dick in nigga bitch pussy zaaaam'])"
   ],
   "outputs": [
    {
     "name": "stderr",
     "output_type": "stream",
     "text": [
      "No model was supplied, defaulted to distilbert/distilbert-base-uncased-finetuned-sst-2-english and revision 714eb0f (https://huggingface.co/distilbert/distilbert-base-uncased-finetuned-sst-2-english).\n",
      "Using a pipeline without specifying a model name and revision in production is not recommended.\n",
      "Device set to use cuda:0\n"
     ]
    },
    {
     "data": {
      "text/plain": [
       "[{'label': 'POSITIVE', 'score': 0.9642977118492126},\n",
       " {'label': 'NEGATIVE', 'score': 0.9951587319374084}]"
      ]
     },
     "execution_count": 9,
     "metadata": {},
     "output_type": "execute_result"
    }
   ],
   "execution_count": 9
  },
  {
   "metadata": {},
   "cell_type": "markdown",
   "source": [
    "## Zero-shot classification\n",
    "\n",
    "Этот пайплайн называется zero-shot потому, что вам нет необходимости дообучать модель для использования.   \n",
    "Она может вернуть вам оценки вероятности для любого списка меток, который вы хотите!"
   ],
   "id": "cd5427f32e1750f9"
  },
  {
   "metadata": {
    "ExecuteTime": {
     "end_time": "2025-04-01T18:51:16.811456Z",
     "start_time": "2025-04-01T18:51:15.234710Z"
    }
   },
   "cell_type": "code",
   "source": [
    "from transformers import pipeline\n",
    "\n",
    "zero_shot_classifier = pipeline(task='zero-shot-classification')\n",
    "zero_shot_classifier(['stupid niggas love eating watermelons and kfc',\n",
    "                      'white people are the best people on earth'],\n",
    "                     candidate_labels=[\"true\", \"false\"])"
   ],
   "id": "99256f9975f913da",
   "outputs": [
    {
     "name": "stderr",
     "output_type": "stream",
     "text": [
      "No model was supplied, defaulted to facebook/bart-large-mnli and revision d7645e1 (https://huggingface.co/facebook/bart-large-mnli).\n",
      "Using a pipeline without specifying a model name and revision in production is not recommended.\n",
      "Device set to use cuda:0\n"
     ]
    },
    {
     "data": {
      "text/plain": [
       "[{'sequence': 'stupid niggas love eating watermelons and kfc',\n",
       "  'labels': ['true', 'false'],\n",
       "  'scores': [0.9248566031455994, 0.07514339685440063]},\n",
       " {'sequence': 'white people are the best people on earth',\n",
       "  'labels': ['true', 'false'],\n",
       "  'scores': [0.9826347827911377, 0.017365220934152603]}]"
      ]
     },
     "execution_count": 17,
     "metadata": {},
     "output_type": "execute_result"
    }
   ],
   "execution_count": 17
  },
  {
   "metadata": {},
   "cell_type": "markdown",
   "source": [
    "## Text Generation\n",
    "\n",
    "Главная идея заключается в следующем: вы передаете на вход модели небольшой фрагмент текста, а модель будет продолжать его."
   ],
   "id": "35575e9bc6f2d330"
  },
  {
   "metadata": {
    "ExecuteTime": {
     "end_time": "2025-04-01T18:55:20.768699Z",
     "start_time": "2025-04-01T18:55:19.388842Z"
    }
   },
   "cell_type": "code",
   "source": [
    "from transformers import pipeline\n",
    "\n",
    "text_generator = pipeline(task='text-generation')\n",
    "text_generator(['stupid niggas love eating watermelons and kfc',\n",
    "                'white people are the best people on earth'],\n",
    "               num_return_sequences=2,\n",
    "               truncation=True,\n",
    "               max_length=30)"
   ],
   "id": "850f9e2bb7197d2d",
   "outputs": [
    {
     "name": "stderr",
     "output_type": "stream",
     "text": [
      "No model was supplied, defaulted to openai-community/gpt2 and revision 607a30d (https://huggingface.co/openai-community/gpt2).\n",
      "Using a pipeline without specifying a model name and revision in production is not recommended.\n",
      "Device set to use cuda:0\n",
      "Setting `pad_token_id` to `eos_token_id`:50256 for open-end generation.\n",
      "Setting `pad_token_id` to `eos_token_id`:50256 for open-end generation.\n"
     ]
    },
    {
     "data": {
      "text/plain": [
       "[[{'generated_text': \"stupid niggas love eating watermelons and kfc's and that i would have to do the same thing with our girls\\n\\nWe\"},\n",
       "  {'generated_text': 'stupid niggas love eating watermelons and kfc\\'s and having pizza and their friends share their stupid nudes with them.\"\\n\\n'}],\n",
       " [{'generated_text': 'white people are the best people on earth. I am not trying to say they are the best but I would hope they knew their rights very well and'},\n",
       "  {'generated_text': 'white people are the best people on earth.\\n\\n\"People need us to do the best job we can in helping people, and helping people feel'}]]"
      ]
     },
     "execution_count": 20,
     "metadata": {},
     "output_type": "execute_result"
    }
   ],
   "execution_count": 20
  },
  {
   "metadata": {},
   "cell_type": "markdown",
   "source": [
    "## Text completion (mask filling)\n",
    "\n",
    "Вставляет текст вместо `<mask>`"
   ],
   "id": "96ae0c2402f6c8e9"
  },
  {
   "metadata": {
    "ExecuteTime": {
     "end_time": "2025-04-01T19:02:48.366462Z",
     "start_time": "2025-04-01T19:02:47.632587Z"
    }
   },
   "cell_type": "code",
   "source": [
    "from transformers import pipeline\n",
    "\n",
    "mask_filler = pipeline(task='fill-mask')\n",
    "mask_filler('Niggas where <mask>', top_k=2)"
   ],
   "id": "bc2e1d17f798c004",
   "outputs": [
    {
     "name": "stderr",
     "output_type": "stream",
     "text": [
      "No model was supplied, defaulted to distilbert/distilroberta-base and revision fb53ab8 (https://huggingface.co/distilbert/distilroberta-base).\n",
      "Using a pipeline without specifying a model name and revision in production is not recommended.\n",
      "Some weights of the model checkpoint at distilbert/distilroberta-base were not used when initializing RobertaForMaskedLM: ['roberta.pooler.dense.bias', 'roberta.pooler.dense.weight']\n",
      "- This IS expected if you are initializing RobertaForMaskedLM from the checkpoint of a model trained on another task or with another architecture (e.g. initializing a BertForSequenceClassification model from a BertForPreTraining model).\n",
      "- This IS NOT expected if you are initializing RobertaForMaskedLM from the checkpoint of a model that you expect to be exactly identical (initializing a BertForSequenceClassification model from a BertForSequenceClassification model).\n",
      "Device set to use cuda:0\n"
     ]
    },
    {
     "data": {
      "text/plain": [
       "[{'score': 0.1404891163110733,\n",
       "  'token': 734,\n",
       "  'token_str': '...',\n",
       "  'sequence': 'Niggas where...'},\n",
       " {'score': 0.08266682922840118,\n",
       "  'token': 678,\n",
       "  'token_str': ' possible',\n",
       "  'sequence': 'Niggas where possible'}]"
      ]
     },
     "execution_count": 30,
     "metadata": {},
     "output_type": "execute_result"
    }
   ],
   "execution_count": 30
  },
  {
   "metadata": {},
   "cell_type": "markdown",
   "source": [
    "## Named-entity recognition (NER)\n",
    "\n",
    "Распознавание именованных сущностей (англ. named entity recognition) - это задача, в которой модели необходимо найти части текста,  \n",
    "соответствующие некоторым сущностям, например: персонам, местам, организациям."
   ],
   "id": "b41744f4875bd49a"
  },
  {
   "metadata": {
    "ExecuteTime": {
     "end_time": "2025-04-02T14:54:06.120869Z",
     "start_time": "2025-04-02T14:54:04.831653Z"
    }
   },
   "cell_type": "code",
   "source": [
    "from transformers import pipeline\n",
    "\n",
    "ner = pipeline(\"ner\", grouped_entities=True)\n",
    "ner(\"My name is Sylvain and I work at Hugging Face in Brooklyn.\")"
   ],
   "id": "223d4ab38bdf671b",
   "outputs": [
    {
     "name": "stderr",
     "output_type": "stream",
     "text": [
      "No model was supplied, defaulted to dbmdz/bert-large-cased-finetuned-conll03-english and revision 4c53496 (https://huggingface.co/dbmdz/bert-large-cased-finetuned-conll03-english).\n",
      "Using a pipeline without specifying a model name and revision in production is not recommended.\n",
      "Some weights of the model checkpoint at dbmdz/bert-large-cased-finetuned-conll03-english were not used when initializing BertForTokenClassification: ['bert.pooler.dense.bias', 'bert.pooler.dense.weight']\n",
      "- This IS expected if you are initializing BertForTokenClassification from the checkpoint of a model trained on another task or with another architecture (e.g. initializing a BertForSequenceClassification model from a BertForPreTraining model).\n",
      "- This IS NOT expected if you are initializing BertForTokenClassification from the checkpoint of a model that you expect to be exactly identical (initializing a BertForSequenceClassification model from a BertForSequenceClassification model).\n",
      "Device set to use cuda:0\n"
     ]
    },
    {
     "data": {
      "text/plain": [
       "[{'entity_group': 'PER',\n",
       "  'score': np.float32(0.9981694),\n",
       "  'word': 'Sylvain',\n",
       "  'start': 11,\n",
       "  'end': 18},\n",
       " {'entity_group': 'ORG',\n",
       "  'score': np.float32(0.97960204),\n",
       "  'word': 'Hugging Face',\n",
       "  'start': 33,\n",
       "  'end': 45},\n",
       " {'entity_group': 'LOC',\n",
       "  'score': np.float32(0.9932106),\n",
       "  'word': 'Brooklyn',\n",
       "  'start': 49,\n",
       "  'end': 57}]"
      ]
     },
     "execution_count": 3,
     "metadata": {},
     "output_type": "execute_result"
    }
   ],
   "execution_count": 3
  },
  {
   "metadata": {},
   "cell_type": "markdown",
   "source": [
    "## Question answering\n",
    "\n",
    "Пайплайн позволяет сгенерировать ответ на вопрос по данному контексту:"
   ],
   "id": "919a8deed5fd8461"
  },
  {
   "metadata": {
    "ExecuteTime": {
     "end_time": "2025-04-01T19:10:40.223870Z",
     "start_time": "2025-04-01T19:10:39.741875Z"
    }
   },
   "cell_type": "code",
   "source": [
    "from transformers import pipeline\n",
    "\n",
    "question_answerer = pipeline(task='question-answering')\n",
    "question_answerer(\n",
    "    question='Who is more likely of them to be a successful businessman?',\n",
    "    context='There were 2 kids, a stupid degenerate nigger with a banana instead of a brain and a white boy'\n",
    ")"
   ],
   "id": "bf14a930278175ea",
   "outputs": [
    {
     "name": "stderr",
     "output_type": "stream",
     "text": [
      "No model was supplied, defaulted to distilbert/distilbert-base-cased-distilled-squad and revision 564e9b5 (https://huggingface.co/distilbert/distilbert-base-cased-distilled-squad).\n",
      "Using a pipeline without specifying a model name and revision in production is not recommended.\n",
      "Device set to use cuda:0\n"
     ]
    },
    {
     "data": {
      "text/plain": [
       "{'score': 0.05625401809811592,\n",
       " 'start': 19,\n",
       " 'end': 45,\n",
       " 'answer': 'a stupid degenerate nigger'}"
      ]
     },
     "execution_count": 38,
     "metadata": {},
     "output_type": "execute_result"
    }
   ],
   "execution_count": 38
  },
  {
   "metadata": {},
   "cell_type": "markdown",
   "source": [
    "## Summarization\n",
    "\n",
    "Задача, в которой необходимо сократить объем текста, но при этом сохранить все важные аспекты изначального текста. "
   ],
   "id": "31325acf75637d0f"
  },
  {
   "metadata": {
    "ExecuteTime": {
     "end_time": "2025-04-01T19:18:06.660307Z",
     "start_time": "2025-04-01T19:18:03.941913Z"
    }
   },
   "cell_type": "code",
   "source": [
    "from transformers import pipeline\n",
    "\n",
    "summarizer = pipeline(task='summarization')\n",
    "summarizer(\n",
    "    \"\"\"\n",
    "    America has changed dramatically during recent years. Not only has the number of \n",
    "    graduates in traditional engineering disciplines such as mechanical, civil, \n",
    "    electrical, chemical, and aeronautical engineering declined, but in most of \n",
    "    the premier American universities engineering curricula now concentrate on \n",
    "    and encourage largely the study of engineering science. As a result, there \n",
    "    are declining offerings in engineering subjects dealing with infrastructure, \n",
    "    the environment, and related issues, and greater concentration on high \n",
    "    technology subjects, largely supporting increasingly complex scientific \n",
    "    developments. While the latter is important, it should not be at the expense \n",
    "    of more traditional engineering.\n",
    "\n",
    "    Rapidly developing economies such as China and India, as well as other \n",
    "    industrial countries in Europe and Asia, continue to encourage and advance \n",
    "    the teaching of engineering. Both China and India, respectively, graduate \n",
    "    six and eight times as many traditional engineers as does the United States. \n",
    "    Other industrial countries at minimum maintain their output, while America \n",
    "    suffers an increasingly serious decline in the number of engineering graduates \n",
    "    and a lack of well-educated engineers.\n",
    "\"\"\"\n",
    ")"
   ],
   "id": "2e50527ba7152c5e",
   "outputs": [
    {
     "name": "stderr",
     "output_type": "stream",
     "text": [
      "No model was supplied, defaulted to sshleifer/distilbart-cnn-12-6 and revision a4f8f3e (https://huggingface.co/sshleifer/distilbart-cnn-12-6).\n",
      "Using a pipeline without specifying a model name and revision in production is not recommended.\n",
      "Device set to use cuda:0\n"
     ]
    },
    {
     "data": {
      "text/plain": [
       "[{'summary_text': ' America has changed dramatically during recent years . The number of engineering graduates in the U.S. has declined in traditional engineering disciplines such as mechanical, civil,    electrical, chemical, and aeronautical engineering . Rapidly developing economies such as China and India continue to encourage and advance the teaching of engineering .'}]"
      ]
     },
     "execution_count": 41,
     "metadata": {},
     "output_type": "execute_result"
    }
   ],
   "execution_count": 41
  },
  {
   "metadata": {},
   "cell_type": "markdown",
   "source": "## Translation",
   "id": "d6a80fb3e1a4145a"
  },
  {
   "metadata": {
    "ExecuteTime": {
     "end_time": "2025-04-01T19:22:38.049479Z",
     "start_time": "2025-04-01T19:22:30.745224Z"
    }
   },
   "cell_type": "code",
   "source": [
    "from transformers import pipeline\n",
    "\n",
    "translator = pipeline(task='translation', model='Helsinki-NLP/opus-mt-ru-en')\n",
    "translator('Я большой толстый нигер я люблю есть КФС')"
   ],
   "id": "65b2cc16b5d8be82",
   "outputs": [
    {
     "data": {
      "text/plain": [
       "source.spm:   0%|          | 0.00/1.08M [00:00<?, ?B/s]"
      ],
      "application/vnd.jupyter.widget-view+json": {
       "version_major": 2,
       "version_minor": 0,
       "model_id": "70599629819a422ea29c40b8a380843e"
      }
     },
     "metadata": {},
     "output_type": "display_data"
    },
    {
     "name": "stderr",
     "output_type": "stream",
     "text": [
      "C:\\Users\\merku\\.virtualenvs\\NLP-oFqrAI3X\\lib\\site-packages\\huggingface_hub\\file_download.py:144: UserWarning: `huggingface_hub` cache-system uses symlinks by default to efficiently store duplicated files but your machine does not support them in C:\\Users\\merku\\.cache\\huggingface\\hub\\models--Helsinki-NLP--opus-mt-ru-en. Caching files will still work but in a degraded version that might require more space on your disk. This warning can be disabled by setting the `HF_HUB_DISABLE_SYMLINKS_WARNING` environment variable. For more details, see https://huggingface.co/docs/huggingface_hub/how-to-cache#limitations.\n",
      "To support symlinks on Windows, you either need to activate Developer Mode or to run Python as an administrator. In order to activate developer mode, see this article: https://docs.microsoft.com/en-us/windows/apps/get-started/enable-your-device-for-development\n",
      "  warnings.warn(message)\n"
     ]
    },
    {
     "data": {
      "text/plain": [
       "target.spm:   0%|          | 0.00/803k [00:00<?, ?B/s]"
      ],
      "application/vnd.jupyter.widget-view+json": {
       "version_major": 2,
       "version_minor": 0,
       "model_id": "4a2a675226034c5cb853956dbf9bec40"
      }
     },
     "metadata": {},
     "output_type": "display_data"
    },
    {
     "data": {
      "text/plain": [
       "vocab.json:   0%|          | 0.00/2.60M [00:00<?, ?B/s]"
      ],
      "application/vnd.jupyter.widget-view+json": {
       "version_major": 2,
       "version_minor": 0,
       "model_id": "6881ffa3419646d6a2ac45c98bfb72e7"
      }
     },
     "metadata": {},
     "output_type": "display_data"
    },
    {
     "name": "stderr",
     "output_type": "stream",
     "text": [
      "C:\\Users\\merku\\.virtualenvs\\NLP-oFqrAI3X\\lib\\site-packages\\transformers\\models\\marian\\tokenization_marian.py:175: UserWarning: Recommended: pip install sacremoses.\n",
      "  warnings.warn(\"Recommended: pip install sacremoses.\")\n",
      "Device set to use cuda:0\n"
     ]
    },
    {
     "data": {
      "text/plain": [
       "[{'translation_text': \"I'm a big fat nigger. I like eating CFS.\"}]"
      ]
     },
     "execution_count": 1,
     "metadata": {},
     "output_type": "execute_result"
    }
   ],
   "execution_count": 1
  }
 ],
 "metadata": {
  "kernelspec": {
   "display_name": "Python 3",
   "language": "python",
   "name": "python3"
  },
  "language_info": {
   "codemirror_mode": {
    "name": "ipython",
    "version": 2
   },
   "file_extension": ".py",
   "mimetype": "text/x-python",
   "name": "python",
   "nbconvert_exporter": "python",
   "pygments_lexer": "ipython2",
   "version": "2.7.6"
  }
 },
 "nbformat": 4,
 "nbformat_minor": 5
}
